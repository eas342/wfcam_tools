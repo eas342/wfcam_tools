{
 "cells": [
  {
   "cell_type": "code",
   "execution_count": null,
   "metadata": {},
   "outputs": [],
   "source": [
    "from astropy.io import fits, ascii\n",
    "from astropy.table import Table\n",
    "import numpy as np\n",
    "import matplotlib.pyplot as plt\n",
    "import glob\n",
    "%matplotlib inline\n",
    "from astropy.coordinates import SkyCoord\n",
    "from astropy import units as u\n"
   ]
  },
  {
   "cell_type": "code",
   "execution_count": null,
   "metadata": {},
   "outputs": [],
   "source": [
    "fileL = glob.glob('all_phot/*.fits')"
   ]
  },
  {
   "cell_type": "code",
   "execution_count": null,
   "metadata": {},
   "outputs": [],
   "source": [
    "filt, cluster, racen, deccen = [], [], [], []\n",
    "for oneFile in fileL:\n",
    "    HDUList = fits.open(oneFile)\n",
    "    head = HDUList[1].header\n",
    "    filt.append(head['FILTER'])\n",
    "    cluster.append(head['OBJECT'])\n",
    "    racen.append(head['RABASE'])\n",
    "    deccen.append(head['DECBASE'])\n",
    "t = Table()\n",
    "t['File'] = fileL\n",
    "t['Source'] = cluster\n",
    "t['Filter'] = filt\n",
    "t['RA cen'] = racen\n",
    "t['DEC cen'] = deccen\n",
    "t.write('ukirt_images_summary.csv')\n",
    "t"
   ]
  },
  {
   "cell_type": "code",
   "execution_count": null,
   "metadata": {},
   "outputs": [],
   "source": [
    "fL = []\n",
    "fL.append('all_phot/w20161025_01764_sf_st_cat.fits')\n",
    "fL.append('all_phot/w20161025_01801_sf_st_cat.fits')\n",
    "fL.append('all_phot/w20161025_01838_sf_st_cat.fits')\n",
    "cols = ['J','H','K']\n",
    "totPhot = Table()"
   ]
  },
  {
   "cell_type": "markdown",
   "metadata": {},
   "source": [
    "Doesn't work yet because I need to cross-match catalogs"
   ]
  },
  {
   "cell_type": "code",
   "execution_count": null,
   "metadata": {},
   "outputs": [],
   "source": [
    "\n",
    "# for oneCol,oneFile in zip(cols,fL):\n",
    "#     HDUList = fits.open(oneFile)\n",
    "#     dat = Table(HDUList[1].data)\n",
    "#     totPhot[oneCol] = dat['Aper_flux_3']\n",
    "#     totPhot[oneCol+'err'] = dat['Aper_flux_3_err']"
   ]
  },
  {
   "cell_type": "markdown",
   "metadata": {},
   "source": [
    "Mike Irwin suggested 1arcsec radius aperture photometry - aper_flux_3 for absolute flux calibration"
   ]
  },
  {
   "cell_type": "code",
   "execution_count": null,
   "metadata": {},
   "outputs": [],
   "source": [
    "#oneFile = 'all_phot/w20161025_01838_sf_st_cat.fits'\n",
    "oneFile = 'all_phot/w20161026_02024_sf_st_cat.fits'\n",
    "\n",
    "HDUList = fits.open(oneFile)\n",
    "head0 = HDUList[0].header\n",
    "head1 = HDUList[1].header\n",
    "dat1 = Table(HDUList[1].data)\n",
    "#head1 = fits.getheader(oneFile)"
   ]
  },
  {
   "cell_type": "code",
   "execution_count": null,
   "metadata": {},
   "outputs": [],
   "source": [
    "catalog = SkyCoord(ra=dat1['RA'] * u.radian,dec=dat1['DEC'] * u.radian)"
   ]
  },
  {
   "cell_type": "code",
   "execution_count": null,
   "metadata": {},
   "outputs": [],
   "source": [
    "# A G2 V star\n",
    "#target = SkyCoord(ra=114.593583333 * u.degree,dec=21.6154080556 * u.degree)"
   ]
  },
  {
   "cell_type": "code",
   "execution_count": null,
   "metadata": {},
   "outputs": [],
   "source": [
    "#target = SkyCoord(ra=114.571095833 * u.degree,dec=21.6060658333 * u.degree)"
   ]
  },
  {
   "cell_type": "code",
   "execution_count": null,
   "metadata": {},
   "outputs": [],
   "source": [
    "target = SkyCoord(ra=114.511483333 * u.degree,dec=21.5158444444 * u.degree)"
   ]
  },
  {
   "cell_type": "code",
   "execution_count": null,
   "metadata": {},
   "outputs": [],
   "source": [
    "target.ra.hms, target.dec.dms"
   ]
  },
  {
   "cell_type": "code",
   "execution_count": null,
   "metadata": {},
   "outputs": [],
   "source": [
    "idx, d2d, d3d = target.match_to_catalog_sky(catalog)  "
   ]
  },
  {
   "cell_type": "code",
   "execution_count": null,
   "metadata": {},
   "outputs": [],
   "source": [
    "d2d.to(u.arcsecond)"
   ]
  },
  {
   "cell_type": "code",
   "execution_count": null,
   "metadata": {},
   "outputs": [],
   "source": [
    "fl = dat1[idx]['Aper_flux_3']"
   ]
  },
  {
   "cell_type": "code",
   "execution_count": null,
   "metadata": {},
   "outputs": [],
   "source": [
    "extCorr = -1. * head1['EXTINCT'] * ((head1['AMSTART']+head1['AMEND'])/2.-1.)\n",
    "texpCorr = 2.5 * np.log10(head1['EXP_TIME'])\n",
    "m = -2.5 * np.log10(fl) + head['MAGZPT'] + extCorr + texpCorr - head1['APCOR3']\n",
    "m"
   ]
  },
  {
   "cell_type": "code",
   "execution_count": null,
   "metadata": {},
   "outputs": [],
   "source": [
    "## Double check the coordinates"
   ]
  },
  {
   "cell_type": "code",
   "execution_count": null,
   "metadata": {},
   "outputs": [],
   "source": [
    "dat1[idx]['RA'] * 180./np.pi, dat1[idx]['DEC'] * 180./np.pi"
   ]
  },
  {
   "cell_type": "code",
   "execution_count": null,
   "metadata": {},
   "outputs": [],
   "source": [
    "fl, extCorr, texpCorr, head1['APCOR3']"
   ]
  },
  {
   "cell_type": "code",
   "execution_count": null,
   "metadata": {},
   "outputs": [],
   "source": [
    "2.5 * np.log10(2. * 94e3/0.6e3)"
   ]
  },
  {
   "cell_type": "code",
   "execution_count": null,
   "metadata": {},
   "outputs": [],
   "source": [
    "head['MAGZPT']"
   ]
  },
  {
   "cell_type": "code",
   "execution_count": null,
   "metadata": {},
   "outputs": [],
   "source": [
    "def get_mag(fl):\n",
    "    extCorr = -1. * head1['EXTINCT'] * ((head1['AMSTART']+head1['AMEND'])/2.-1.)\n",
    "    texpCorr = 2.5 * np.log10(head1['EXP_TIME'])\n",
    "    m = -2.5 * np.log10(fl) + head['MAGZPT'] + extCorr + texpCorr - head1['APCOR3']\n",
    "    return m"
   ]
  },
  {
   "cell_type": "code",
   "execution_count": null,
   "metadata": {},
   "outputs": [],
   "source": [
    "gDat = ascii.read('g_starsNGC_2420_copy.csv')\n",
    "kMags = []\n",
    "for oneRow in gDat:\n",
    "    target = SkyCoord(ra=oneRow['ra'] * u.degree,dec=oneRow['dec'] * u.degree)\n",
    "    idx, d2d, d3d = target.match_to_catalog_sky(catalog)\n",
    "    fl = dat1[idx]['Aper_flux_3']\n",
    "    kMag = get_mag(fl)\n",
    "    kMags.append(kMag)\n",
    "gDat['K Mag'] = kMags\n",
    "gDat"
   ]
  },
  {
   "cell_type": "markdown",
   "metadata": {},
   "source": [
    "Average G2 V K magnitude"
   ]
  },
  {
   "cell_type": "code",
   "execution_count": null,
   "metadata": {},
   "outputs": [],
   "source": [
    "g2Pt = gDat['SpType'] == 'G2 V'\n",
    "np.mean(gDat[g2Pt]['K Mag'])"
   ]
  },
  {
   "cell_type": "code",
   "execution_count": null,
   "metadata": {},
   "outputs": [],
   "source": [
    "len(catalog)"
   ]
  },
  {
   "cell_type": "code",
   "execution_count": null,
   "metadata": {},
   "outputs": [],
   "source": [
    "head1"
   ]
  },
  {
   "cell_type": "code",
   "execution_count": null,
   "metadata": {},
   "outputs": [],
   "source": []
  }
 ],
 "metadata": {
  "language_info": {
   "name": "python",
   "pygments_lexer": "ipython3"
  }
 },
 "nbformat": 4,
 "nbformat_minor": 0
}
