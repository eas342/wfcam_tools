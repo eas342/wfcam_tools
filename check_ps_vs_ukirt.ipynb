{
 "cells": [
  {
   "cell_type": "code",
   "execution_count": null,
   "metadata": {},
   "outputs": [],
   "source": [
    "import pysynphot as S\n",
    "import pynrc"
   ]
  },
  {
   "cell_type": "code",
   "execution_count": null,
   "metadata": {},
   "outputs": [],
   "source": [
    "# Castelli Kurucz model is just an approximation!\n",
    "G2VCK = pynrc.nrc_utils.stellar_spectrum('G2V') \n",
    "## Bandpasses\n",
    "bpg = S.ObsBandpass('sdss,g')\n",
    "bpK = S.ObsBandpass('johnson,k')\n",
    "## Use Extinction\n",
    "spG2VCK = G2VCK * S.Extinction(0.04,'mwavg')"
   ]
  },
  {
   "cell_type": "code",
   "execution_count": null,
   "metadata": {},
   "outputs": [],
   "source": [
    "sp_renorm = spG2VCK.renorm(17.3943,'abmag',bpg)"
   ]
  },
  {
   "cell_type": "code",
   "execution_count": null,
   "metadata": {},
   "outputs": [],
   "source": [
    "obs = S.Observation(sp_renorm,bpK)\n",
    "obs.effstim('vegamag')"
   ]
  },
  {
   "cell_type": "code",
   "execution_count": null,
   "metadata": {},
   "outputs": [],
   "source": [
    "## OK to within 0.06 magnitudes of measured 15.536"
   ]
  },
  {
   "cell_type": "code",
   "execution_count": null,
   "metadata": {},
   "outputs": [],
   "source": []
  }
 ],
 "metadata": {
  "language_info": {
   "name": "python",
   "pygments_lexer": "ipython3"
  }
 },
 "nbformat": 4,
 "nbformat_minor": 0
}
